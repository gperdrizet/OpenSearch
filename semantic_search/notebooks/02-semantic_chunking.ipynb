{
 "cells": [
  {
   "cell_type": "markdown",
   "metadata": {},
   "source": [
    "# Semantic chunking\n",
    "\n",
    "Next, we are going to try using a semantic text splitter to chunk the text to blocks of around 512 tokens.\n",
    "\n",
    "## 1. Setup\n",
    "\n",
    "We will use semantic-text-splitter from PyPI and the bert base uncased tokenizer from HuggingFace."
   ]
  },
  {
   "cell_type": "code",
   "execution_count": 1,
   "metadata": {},
   "outputs": [
    {
     "name": "stdout",
     "output_type": "stream",
     "text": [
      "Working directory: /mnt/arkk/opensearch/semantic_search\n"
     ]
    }
   ],
   "source": [
    "# Change working directory to parent so we can import as we would from __main__.py\n",
    "print(f'Working directory: ', end = '')\n",
    "%cd ..\n",
    "\n",
    "# Standard ports\n",
    "import time\n",
    "\n",
    "# PyPI imports\n",
    "import h5py\n",
    "import matplotlib.pyplot as plt\n",
    "from semantic_text_splitter import TextSplitter\n",
    "from tokenizers import Tokenizer\n",
    "\n",
    "# Internal imports\n",
    "import configuration as config"
   ]
  },
  {
   "cell_type": "code",
   "execution_count": 2,
   "metadata": {},
   "outputs": [],
   "source": [
    "input_file=f'{config.DATA_PATH}/wikipedia/{config.BATCHED_TEXT}'\n",
    "\n",
    "# Total record count determined in data exploration notebook\n",
    "record_count=13778448\n",
    "\n",
    "tokenizer_name='bert-base-uncased'\n",
    "max_tokens=512\n",
    "\n",
    "tokenizer=Tokenizer.from_pretrained(tokenizer_name)\n",
    "splitter=TextSplitter.from_huggingface_tokenizer(tokenizer, max_tokens)"
   ]
  },
  {
   "cell_type": "markdown",
   "metadata": {},
   "source": [
    "## 2. Load data\n",
    "\n",
    "Load up the first batch from the data extractor."
   ]
  },
  {
   "cell_type": "code",
   "execution_count": 3,
   "metadata": {},
   "outputs": [
    {
     "name": "stdout",
     "output_type": "stream",
     "text": [
      "First batch contains 95 texts\n",
      "\n",
      "Sample text:\n",
      "No toquen a la nena (Don't touch the girl) is a 1976 Argentinian film. It is a comedy of manners directed by Juan José Jusid. The film stars Luis Politti, María Vaner, Norma Aleandro, Lautaro Murúa, Pepe Soriano and Julio de Grazia, among others. Among the roster of extras, the film featured Cecilia Roth in her debut performance, 2 years before she would flee Argentina. When it was released in Argentina, many of its actors had had to go into exile for reasons of political persecution.\n",
      "\n",
      "The script, written by Oscar Viale and Jorge Goldemberg, received initial approval from the Argentine\n"
     ]
    }
   ],
   "source": [
    "input_data=h5py.File(input_file, 'r')\n",
    "batch=input_data['batches/1']\n",
    "\n",
    "sample_text=' '.join(batch[3].decode('utf-8').split(' ')[:100])\n",
    "\n",
    "print(f'First batch contains {len(batch)} texts\\n')\n",
    "print(f\"Sample text:\\n{sample_text}\")"
   ]
  },
  {
   "cell_type": "markdown",
   "metadata": {},
   "source": [
    "## 3. Semantic chunking test\n",
    "Test split the first text from the first batch:"
   ]
  },
  {
   "cell_type": "code",
   "execution_count": 4,
   "metadata": {},
   "outputs": [
    {
     "name": "stdout",
     "output_type": "stream",
     "text": [
      "Have 21 chunks\n",
      "\n",
      "0: Hercule Poirot is a fictional Belgian detective created by British writer Agatha Christie. Poirot is one of Christie's most famous and long-running characters, appearing in ... Hanaud of the French Sûreté, who first appeared in the 1910 novel At the Villa Rose and predates the first Poirot novel by 10 years.\n",
      "\n",
      "1: Christie's Poirot was clearly the result of her early development of the detective in her first book, written in 1916 and published in 1920. The ... has taken to wearing a wig and a false moustache.as Hastings discovers in However, in many of his screen incarnations, he is bald or balding.\n",
      "\n",
      "2: Frequent mention is made of his patent leather shoes, damage to which is frequently a source of misery for him, but comical for the reader.E.g. ... the dark throughout the climax. This aspect of Poirot is less evident in the later novels, partly because there is rarely a narrator to mislead.\n",
      "\n",
      "3: In Murder on the Links, still largely dependent on clues himself, Poirot mocks a rival \"bloodhound\" detective who focuses on the traditional trail of clues ... of time,\" he replied.\n",
      "\n",
      "Poirot is also willing to appear more foreign or vain in an effort to make people underestimate him. He admits as much:\n",
      "\n",
      "4: It is true that I can speak the exact, the idiomatic English. But, my friend, to speak the broken English is an enormous asset. It ... villa high on the hillside.\" Christie strongly implies that this \"quiet retreat in the Ardennes\" near Spa is the location of the Poirot family home.\n"
     ]
    }
   ],
   "source": [
    "chunks=splitter.chunks(batch[0].decode('utf-8'))\n",
    "print(f'Have {len(chunks)} chunks')\n",
    "\n",
    "for i, chunk in enumerate(chunks[:5]):\n",
    "    chunk_start=' '.join(chunk.split(' ')[:25])\n",
    "    chunk_end=' '.join(chunk.split(' ')[-25:])\n",
    "    print(f'\\n{i}: {chunk_start} ... {chunk_end}')"
   ]
  },
  {
   "cell_type": "markdown",
   "metadata": {},
   "source": [
    "OK, pretty good. We didn't break up any sentences. Some chunks start with a pronoun, so they would be a little unclear to read in isolation. But this approach is obviously much better than taking chunks by word count.\n",
    "\n",
    "It feels snappy too - let's time chunking a few batches and see what we are working with.\n",
    "\n",
    "## 4. Semantic text chunking rate"
   ]
  },
  {
   "cell_type": "code",
   "execution_count": 7,
   "metadata": {},
   "outputs": [
    {
     "name": "stdout",
     "output_type": "stream",
     "text": [
      "Total chunking time: 54.0 hours\n",
      "Mean chunking rate 70.8 records per second\n",
      "\n",
      "CPU times: user 2min 14s, sys: 67.2 ms, total: 2min 14s\n",
      "Wall time: 2min 14s\n"
     ]
    }
   ],
   "source": [
    "%%time\n",
    "\n",
    "# Number of batches to time chunking for\n",
    "num_batches=100\n",
    "\n",
    "# Holder to collect chunking times\n",
    "chunking_times=[]\n",
    "\n",
    "for i in range(num_batches):\n",
    "\n",
    "    # Start the timer\n",
    "    start_time=time.time()\n",
    "\n",
    "    # Get the text batch\n",
    "    batch=input_data[f'batches/{i + 1}']\n",
    "\n",
    "    # Chunk the records from the batch\n",
    "    for record in batch:\n",
    "        chunks=splitter.chunks(record.decode('utf-8'))\n",
    "\n",
    "    # Stop the timer\n",
    "    dT=time.time() - start_time\n",
    "    chunking_times.append(dT/len(batch))\n",
    "\n",
    "mean_chunking_rate=len(chunking_times)/sum(chunking_times)\n",
    "print(f'Total chunking time: {((record_count / mean_chunking_rate) / (60**2)):.1f} hours')\n",
    "print(f'Mean chunking rate {mean_chunking_rate:.1f} records per second\\n')"
   ]
  },
  {
   "cell_type": "code",
   "execution_count": 8,
   "metadata": {},
   "outputs": [
    {
     "data": {
      "image/png": "[encoded data removed]",
      "text/plain": [
       "<Figure size 640x480 with 1 Axes>"
      ]
     },
     "metadata": {},
     "output_type": "display_data"
    }
   ],
   "source": [
    "    plt.hist(chunking_times)\n",
    "    plt.xlabel(f'Chunking time (seconds)')\n",
    "    plt.ylabel('Count')\n",
    "    plt.show()"
   ]
  },
  {
   "cell_type": "markdown",
   "metadata": {},
   "source": [
    "## 5. Results\n",
    "\n",
    "Single threaded chunking rate is about 70 records per second or approximately 70 hours to chunk all of Wikipedia. Parallelizing that over 18 cores gives us a net run time of just under 4 hours. Combine that with the net two-hour run time of the parser/cleaner functions, and we are looking at a best case scenario of about 6 hrs for the extraction job to complete. All-in-all, not terrible. We can live with overnight, especially considering that the first iteration of this would have taken 8 days to run!"
   ]
  }
 ],
 "metadata": {
  "kernelspec": {
   "display_name": ".venv",
   "language": "python",
   "name": "python3"
  },
  "language_info": {
   "codemirror_mode": {
    "name": "ipython",
    "version": 3
   },
   "file_extension": ".py",
   "mimetype": "text/x-python",
   "name": "python",
   "nbconvert_exporter": "python",
   "pygments_lexer": "ipython3",
   "version": "3.10.15"
  }
 },
 "nbformat": 4,
 "nbformat_minor": 2
}
