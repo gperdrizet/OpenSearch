{
 "cells": [
  {
   "cell_type": "markdown",
   "metadata": {},
   "source": [
    "# Semantic chunking\n",
    "\n",
    "Next, we are going to try using a semantic text splitter to chunk the text to blocks of around 512 tokens.\n",
    "\n",
    "## 1. Run set-up\n",
    "\n",
    "We will use semantic-text-splitter from PyPI and the bert base uncased tokenizer from HuggingFace."
   ]
  },
  {
   "cell_type": "code",
   "execution_count": 1,
   "metadata": {},
   "outputs": [
    {
     "name": "stdout",
     "output_type": "stream",
     "text": [
      "Working directory: /mnt/arkk/opensearch/semantic_search\n"
     ]
    }
   ],
   "source": [
    "# Change working directory to parent so we can import as we would from __main__.py\n",
    "print(f'Working directory: ', end = '')\n",
    "%cd ..\n",
    "\n",
    "# Standard ports\n",
    "import time\n",
    "\n",
    "# PyPI imports\n",
    "import h5py\n",
    "import matplotlib.pyplot as plt\n",
    "from semantic_text_splitter import TextSplitter\n",
    "from tokenizers import Tokenizer\n",
    "\n",
    "# Internal imports\n",
    "import configuration as config"
   ]
  },
  {
   "cell_type": "code",
   "execution_count": 2,
   "metadata": {},
   "outputs": [],
   "source": [
    "input_file=f'{config.DATA_PATH}/wikipedia-sample/{config.BATCHED_TEXT}'\n",
    "\n",
    "# Total line and record counts determined in data exploration notebook\n",
    "line_count=13778448\n",
    "record_count=6889224\n",
    "\n",
    "tokenizer_name='bert-base-uncased'\n",
    "max_tokens=512\n",
    "\n",
    "tokenizer=Tokenizer.from_pretrained(tokenizer_name)\n",
    "splitter=TextSplitter.from_huggingface_tokenizer(tokenizer, max_tokens)"
   ]
  },
  {
   "cell_type": "markdown",
   "metadata": {},
   "source": [
    "## 2. Load data\n",
    "\n",
    "Load up the first batch from the data extractor."
   ]
  },
  {
   "cell_type": "code",
   "execution_count": 3,
   "metadata": {},
   "outputs": [
    {
     "name": "stdout",
     "output_type": "stream",
     "text": [
      "First batch contains 95 texts\n",
      "\n",
      "Sample text:\n",
      "Hercule Poirot (, ) is a fictional Belgian detective created by British writer Agatha Christie. Poirot is one of Christie's most famous and long-running characters, appearing in 33 novels, two plays (Black Coffee and Alibi), and 51 short stories published between 1920 and 1975.\n",
      "\n",
      "Poirot has been portrayed on radio, in film and on television by various actors, including Austin Trevor, John Moffatt, Albert Finney, Peter Ustinov, Ian Holm, Tony Randall, Alfred Molina, Orson Welles, David Suchet, Kenneth Branagh, and John Malkovich.\n",
      "\n",
      "Overview \n",
      "\n",
      "Influences \n",
      "\n",
      "Poirot's name was derived from two other fictional detectives of the time: Marie Belloc Lowndes' Hercule Popeau and\n"
     ]
    }
   ],
   "source": [
    "input_data=h5py.File(input_file, 'r')\n",
    "batch=input_data['batches/1']\n",
    "\n",
    "sample_text=' '.join(batch[0].decode('utf-8').split(' ')[:100])\n",
    "\n",
    "print(f'First batch contains {len(batch)} texts\\n')\n",
    "print(f\"Sample text:\\n{sample_text}\")"
   ]
  },
  {
   "cell_type": "markdown",
   "metadata": {},
   "source": [
    "Ok, looks fine - we still have some character level garbage in there, but that will be cleaned up during the data transform task."
   ]
  },
  {
   "cell_type": "markdown",
   "metadata": {},
   "source": [
    "## 3. Semantic chunking test\n",
    "Test split the first text from the first batch:"
   ]
  },
  {
   "cell_type": "code",
   "execution_count": 4,
   "metadata": {},
   "outputs": [
    {
     "name": "stdout",
     "output_type": "stream",
     "text": [
      "Have 22 chunks\n",
      "\n",
      "0: Hercule Poirot (, ) is a fictional Belgian detective created by British writer Agatha Christie. Poirot is one of Christie's most famous and long-running characters, ... Hanaud of the French Sûreté, who first appeared in the 1910 novel At the Villa Rose and predates the first Poirot novel by 10 years.\n",
      "\n",
      "1: Christie's Poirot was clearly the result of her early development of the detective in her first book, written in 1916 and published in 1920. The ... taken to wearing a wig and a false moustache.as Hastings discovers in  However, in many of his screen incarnations, he is bald or balding.\n",
      "\n",
      "2: Frequent mention is made of his patent leather shoes, damage to which is frequently a source of misery for him, but comical for the reader.E.g. ... the dark throughout the climax. This aspect of Poirot is less evident in the later novels, partly because there is rarely a narrator to mislead.\n",
      "\n",
      "3: In Murder on the Links, still largely dependent on clues himself, Poirot mocks a rival \"bloodhound\" detective who focuses on the traditional trail of clues ... of time,\" he replied.\n",
      "\n",
      "Poirot is also willing to appear more foreign or vain in an effort to make people underestimate him. He admits as much:\n",
      "\n",
      "4: It is true that I can speak the exact, the idiomatic English. But, my friend, to speak the broken English is an enormous asset. It ... be an old man in 1920. At the time, however, she did not know that she would write works featuring him for decades to come.\n"
     ]
    }
   ],
   "source": [
    "chunks=splitter.chunks(batch[0].decode('utf-8'))\n",
    "print(f'Have {len(chunks)} chunks')\n",
    "\n",
    "for i, chunk in enumerate(chunks[:5]):\n",
    "    chunk_start=' '.join(chunk.split(' ')[:25])\n",
    "    chunk_end=' '.join(chunk.split(' ')[-25:])\n",
    "    print(f'\\n{i}: {chunk_start} ... {chunk_end}')"
   ]
  },
  {
   "cell_type": "markdown",
   "metadata": {},
   "source": [
    "OK, pretty good. We didn't break up any sentences. Some chunks start with a pronoun, so they would be a little unclear to read in isolation. But this approach is obviously much better than taking chunks by word count.\n",
    "\n",
    "It feels snappy too - let's time splitting a few batches and see what we are working with.\n",
    "\n",
    "## 4. Semantic text splitting rate"
   ]
  },
  {
   "cell_type": "code",
   "execution_count": 5,
   "metadata": {},
   "outputs": [
    {
     "name": "stdout",
     "output_type": "stream",
     "text": [
      "CPU times: user 2min 36s, sys: 82.1 ms, total: 2min 36s\n",
      "Wall time: 2min 36s\n"
     ]
    }
   ],
   "source": [
    "%%time\n",
    "\n",
    "# Number of batches to time splitting for\n",
    "num_batches=100\n",
    "\n",
    "# Holder to collect splitting rates\n",
    "splitting_rates=[]\n",
    "\n",
    "# Also, collect the number of chunks we get from each article\n",
    "# so we can get an average at the end\n",
    "chunks_per_article=[]\n",
    "\n",
    "for i in range(num_batches):\n",
    "\n",
    "    # Start the timer\n",
    "    start_time=time.time()\n",
    "\n",
    "    # Get the text batch\n",
    "    batch=input_data[f'batches/{i + 1}']\n",
    "\n",
    "    # Split the records from the batch\n",
    "    for record in batch:\n",
    "        chunks=splitter.chunks(record.decode('utf-8'))\n",
    "\n",
    "        # Collect the chunk count\n",
    "        chunks_per_article.append(len(chunks))\n",
    "\n",
    "    # Stop the timer\n",
    "    dT=time.time() - start_time\n",
    "\n",
    "    # Collect the split rate\n",
    "    splitting_rates.append(len(batch) / dT)"
   ]
  },
  {
   "cell_type": "code",
   "execution_count": 8,
   "metadata": {},
   "outputs": [
    {
     "data": {
      "image/png": "[encoded data removed]",
      "text/plain": [
       "<Figure size 640x480 with 1 Axes>"
      ]
     },
     "metadata": {},
     "output_type": "display_data"
    },
    {
     "name": "stdout",
     "output_type": "stream",
     "text": [
      "\n",
      "Estimated total splitting time: 26.2 hours\n",
      "Mean splitting rate 72.9 records per second\n",
      "\n"
     ]
    }
   ],
   "source": [
    "plt.hist(splitting_rates, bins=25)\n",
    "plt.xlabel(f'Mean replicate splitting rate (articles per second)')\n",
    "plt.ylabel('Count')\n",
    "plt.show()\n",
    "\n",
    "mean_splitting_rate=sum(splitting_rates) / len(splitting_rates)\n",
    "print(f'\\nEstimated total splitting time: {((record_count / mean_splitting_rate) / (60**2)):.1f} hours')\n",
    "print(f'Mean splitting rate {mean_splitting_rate:.1f} records per second\\n')"
   ]
  },
  {
   "cell_type": "code",
   "execution_count": 9,
   "metadata": {},
   "outputs": [
    {
     "data": {
      "image/png": "[encoded data removed]",
      "text/plain": [
       "<Figure size 640x480 with 1 Axes>"
      ]
     },
     "metadata": {},
     "output_type": "display_data"
    },
    {
     "name": "stdout",
     "output_type": "stream",
     "text": [
      "\n",
      "Estimated total chunks: 20648877\n",
      "Mean chunks per article 3.0\n",
      "\n"
     ]
    }
   ],
   "source": [
    "plt.hist(chunks_per_article, bins=25)\n",
    "plt.xlabel(f'Split yield (chunks per article)')\n",
    "plt.ylabel('Count')\n",
    "plt.show()\n",
    "\n",
    "mean_chunks_per_article=sum(chunks_per_article) / len(chunks_per_article)\n",
    "print(f'\\nEstimated total chunks: {(record_count * mean_chunks_per_article):.0f}')\n",
    "print(f'Mean chunks per article {mean_chunks_per_article:.1f}\\n')"
   ]
  },
  {
   "cell_type": "markdown",
   "metadata": {},
   "source": [
    "## 5. Results\n",
    "\n",
    "Single threaded semantic splitting rate is about 60 records per second or approximately 30 hours to spit all of Wikipedia. Parallelizing that over 18 cores gives us a net splitting time of about an hour and 45 minutes. \n",
    "\n",
    "Combining the semantic splitting time with the net one-hour run time of the parallelized extractor/parser/cleaner functions, and we are looking at best case scenario, about 3 hours for the extraction job to complete. All-in-all, not terrible. We can live with overnight, especially considering that the first iteration of this pipeline would have taken over 8 days to run!"
   ]
  }
 ],
 "metadata": {
  "kernelspec": {
   "display_name": ".venv",
   "language": "python",
   "name": "python3"
  },
  "language_info": {
   "codemirror_mode": {
    "name": "ipython",
    "version": 3
   },
   "file_extension": ".py",
   "mimetype": "text/x-python",
   "name": "python",
   "nbconvert_exporter": "python",
   "pygments_lexer": "ipython3",
   "version": "3.10.15"
  }
 },
 "nbformat": 4,
 "nbformat_minor": 2
}
