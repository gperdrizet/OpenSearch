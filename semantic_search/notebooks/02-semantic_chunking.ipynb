{
 "cells": [
  {
   "cell_type": "markdown",
   "metadata": {},
   "source": [
    "# Semantic chunking\n",
    "\n",
    "Next, we are going to try using a semantic text splitter to chunk the text to blocks of around 512 tokens.\n",
    "\n",
    "## 1. Setup\n",
    "\n",
    "We will use semantic-text-splitter from PyPI and the bert base uncased tokenizer from HuggingFace."
   ]
  },
  {
   "cell_type": "code",
   "execution_count": 1,
   "metadata": {},
   "outputs": [
    {
     "name": "stdout",
     "output_type": "stream",
     "text": [
      "Working directory: /mnt/arkk/opensearch/semantic_search\n"
     ]
    }
   ],
   "source": [
    "# Change working directory to parent so we can import as we would from __main__.py\n",
    "print(f'Working directory: ', end = '')\n",
    "%cd ..\n",
    "\n",
    "# Standard ports\n",
    "import time\n",
    "\n",
    "# PyPI imports\n",
    "import h5py\n",
    "from semantic_text_splitter import TextSplitter\n",
    "from tokenizers import Tokenizer\n",
    "\n",
    "# Internal imports\n",
    "import configuration as config"
   ]
  },
  {
   "cell_type": "code",
   "execution_count": 2,
   "metadata": {},
   "outputs": [],
   "source": [
    "input_file=f'{config.DATA_PATH}/wikipedia/{config.BATCHED_TEXT}'\n",
    "\n",
    "tokenizer_name='bert-base-uncased'\n",
    "max_tokens=512\n",
    "\n",
    "tokenizer=Tokenizer.from_pretrained(tokenizer_name)\n",
    "splitter=TextSplitter.from_huggingface_tokenizer(tokenizer, max_tokens)"
   ]
  },
  {
   "cell_type": "markdown",
   "metadata": {},
   "source": [
    "## 2. Load data\n",
    "\n",
    "Load up the first batch from the data extractor."
   ]
  },
  {
   "cell_type": "code",
   "execution_count": 3,
   "metadata": {},
   "outputs": [
    {
     "name": "stdout",
     "output_type": "stream",
     "text": [
      "First batch contains 10000 texts\n",
      "First text:\n",
      "Hercule Poirot (UK: /ˈɛərkjuːl ˈpwɑːroʊ/, US: /hɜːrˈkjuːl pwɑːˈroʊ/) is a fictional Belgian detective created by British writer Agatha Christie. Poirot is one of Christie's most famous and long-running characters, appearing in 33 novels, two plays (Black Coffee and Alibi), and 51 short stories published between 1920 and 1975. Poirot has been portrayed on radio, in film and on television by various actors, including Austin Trevor, John Moffatt, Albert Finney, Peter Ustinov, Ian Holm, Tony Randall, Alfred Molina, Orson Welles, David Suchet, Kenneth Branagh, and John Malkovich. Poirot's name was derived from two other fictional detectives of the time: Marie Belloc\n"
     ]
    }
   ],
   "source": [
    "input_data=h5py.File(input_file, 'r')\n",
    "batch=input_data['batches/0']\n",
    "\n",
    "sample_text=' '.join(batch[0].decode('utf-8').split(' ')[:100])\n",
    "\n",
    "print(f'First batch contains {len(batch)} texts')\n",
    "print(f\"First text:\\n{sample_text}\")"
   ]
  },
  {
   "cell_type": "markdown",
   "metadata": {},
   "source": [
    "## 3. Test semantic chunking\n",
    "Test split the first text from the first batch:"
   ]
  },
  {
   "cell_type": "code",
   "execution_count": 8,
   "metadata": {},
   "outputs": [
    {
     "name": "stdout",
     "output_type": "stream",
     "text": [
      "Chunks are: <class 'list'>\n",
      "Have 27 chunks\n",
      "\n",
      "Hercule Poirot (UK: /ˈɛərkjuːl ˈpwɑːroʊ/, US: /hɜːrˈkjuːl pwɑːˈroʊ/) is a fictional Belgian detective created by British writer Agatha Christie. Poirot is one of Christie's most ... years. Christie's Poirot was clearly the result of her early development of the detective in her first book, written in 1916 and published in 1920.\n",
      "\n",
      "The large number of refugees in the country who had fled the German invasion of Belgium in August to November 1914 served as a plausible ... is not mentioned, suggesting it may have been a temporary wartime injury. (In Curtain, Poirot admits he was wounded when he first came to England.)\n",
      "\n",
      "Poirot has green eyes that are repeatedly described as shining \"like a cat's\" when he is struck by a clever idea, and dark hair, which ... the dark throughout the climax. This aspect of Poirot is less evident in the later novels, partly because there is rarely a narrator to mislead.\n",
      "\n",
      "In Murder on the Links, still largely dependent on clues himself, Poirot mocks a rival \"bloodhound\" detective who focuses on the traditional trail of clues ... much.\" ... And so, you see, I put people off their guard. He also has a tendency to refer to himself in the third person.\n",
      "\n",
      "In later novels, Christie often uses the word mountebank when characters describe Poirot, showing that he has successfully passed himself off as a charlatan or ... wealth, and has at least one younger sister. Apart from French and English, Poirot is also fluent in German. Gustave ... was not a policeman.\n",
      "\n",
      "I have dealt with policemen all my life and I know. He could pass as a detective to an outsider but not to a man ... rage that every rich woman who had mislaid a bracelet or lost a pet kitten rushed to secure the services of the great Hercule Poirot.\n",
      "\n",
      "During World War I, Poirot left Belgium for England as a refugee, although he returned a few times. On 16 July 1916 he again met ... Murder on the Orient Express. He did not travel to Africa or Asia, probably to avoid seasickness. It is this villainous sea that troubles me!\n",
      "\n",
      "The mal de mer – it is horrible suffering! It was during this time he met the Countess Vera Rossakoff, a glamorous jewel thief. The ... with the medical examiner agreeing to doctor his own report to support this theory. After his cases in the Middle East, Poirot returned to Britain.\n",
      "\n",
      "Apart from some of the so-called Labours of Hercules (see next section) he very rarely went abroad during his later career. He moved into Styles ... Labours takes place at one date but that the labours are completed over a matter of twenty years. None of the explanations is especially attractive.\n",
      "\n",
      "In terms of a rudimentary chronology, Poirot speaks of retiring to grow marrows in Chapter 18 of The Big Four (1927) which places that novel ... late as to be almost an afterthought. Whether this was a reflection of his age or of Christie's distaste for him, is impossible to assess.\n",
      "\n",
      "Crooked House (1949) and Ordeal by Innocence (1957), which could easily have been Poirot novels, represent a logical endpoint of the general diminution of his ... scene of his first English case in 1916. In Christie's novels, he lived into the early 1970s, perhaps even until 1975 when Curtain was published.\n",
      "\n",
      "In Curtain, Poirot himself became a murderer, in order to prevent further murders instigated by a man who manipulated others to kill for him, subtly ... would see them and for his tendency to unknowingly \"stumble\" onto the truth. Hastings marries and has four children – two sons and two daughters.\n",
      "\n",
      "As a loyal, albeit somewhat naïve companion, Hastings is to Poirot what Watson is to Sherlock Holmes. Hastings is capable of great bravery and courage, ... prevent her from becoming too much of a burden on others. She has authored more than 56 novels and greatly dislikes people modifying her characters.\n",
      "\n",
      "She is the only one in Poirot's universe to have noted that \"It's not natural for five or six people to be on the spot ... from Lord Edgware Dies, the role of Japp was taken by the actor David Suchet, who would later star as Poirot in the ITV adaptations.\n",
      "\n",
      "The Poirot books take readers through the whole of his life in England, from the first book (The Mysterious Affair at Styles), where he is ... on Broadway. Another Poirot play, Black Coffee opened in London at the Embassy Theatre on 8 December 1930 and starred Francis L. Sullivan as Poirot.\n",
      "\n",
      "Black Coffee was revived by The Agatha Christie Theatre Company for an extensive UK tour in 2014. Poirot was initially portrayed by Robert Powell, with ... Rosalind Hicks observed Ustinov during a rehearsal and said, \"That's not Poirot! He isn't at all like that!\" Ustinov overheard and remarked \"He is now!\"\n",
      "\n",
      "He appeared again as Poirot in three television films: Thirteen at Dinner (1985), Dead Man's Folly (1986), and Murder in Three Acts (1986). Earlier adaptations ... the West German television series Die Galerie der großen Detektive) José Ferrer, Hercule Poirot (1961; Unaired TV Pilot, MGM; adaptation of \"The Disappearance of Mr.\n",
      "\n",
      "Davenheim\") Martin Gabel, General Electric Theater (4/1/1962; adaptation of \"The Disappearance of Mr. Davenheim\") Horst Bollmann, Black Coffee 1973 Ian Holm, Murder by the Book, ... on CBS's Campbell Playhouse. On 6 October 1942, the Mutual radio series Murder Clinic broadcast \"The Tragedy at Marsden Manor\" starring Maurice Tarplin as Poirot.\n",
      "\n",
      "A 1945 radio series of at least 13 original half-hour episodes (none of which apparently adapt any Christie stories) transferred Poirot from London to New ... World, where Hugh Laurie plays Poirot; and in Sherlock Holmes: The Awakened, Poirot appears as a young boy on the train transporting Holmes and Watson.\n",
      "\n",
      "Holmes helps the boy in opening a puzzle-box, with Watson giving the boy advice about using his \"little grey cells\". In the book series Geronimo ... learned to read writing upside down during his police career.[citation needed] Around that time he met Xavier Bouc, director of the Compagnie Internationale des Wagons-Lits.\n",
      "\n",
      "Recounted in the short story The Kidnapped Prime Minister The Florin Court building was actually built in 1936, decades after Poirot fictionally moved in In ... glancing as he did so at the neat wrist-watch which had at last replaced an old favourite – the large turnip-faced watch of early days.\n",
      "\n",
      "Yes, it was exactly nine-thirty. As ever, Hercule Poirot was exact to the minute.\" Christie 2011b Christie 2013a. Barton, Laura (18 May 2009). \"Poirot and ... Christie 1948 Christie 2011, Chapter 12 Christie 1947c Christie 2009b, Chapter 15. Christie 2009b, Chapter 15 Christie 1975, Postscript. Christie 1939, Chapter 7. Christie 2013b.\n",
      "\n",
      "Christie 2012 Poirot, in Christie 2012 Cassatis, John (1979). The Diaries of A. Christie. London. \"The Capture of Cerebus\" (1947). The first sentence quoted is ... Retrieved 18 July 2024. Aldridge, Mark. \"FACTS ABOUT HERCULE POIROT\". agathachristie.com. Retrieved 26 July 2024. \"Career - Theatre 1956-1959\". leornardrossiter.com. Retrieved 26 July 2024. \"Alibi\".\n",
      "\n",
      "Theatricalia. Retrieved 26 July 2024. \"Black Coffee\". Theatricalia. Retrieved 26 July 2024. \"Alfred Marks\". Theatricalia. Retrieved 26 July 2024. At the Hercule Poirot Central website ... story\". Agatha Christie. 10 October 2017. Retrieved 5 January 2019. \"The Murder on the Links\". latw.org. Retrieved 31 January 2022. \"The Brasserie Ellezelloise's Hercule\". Brasserie-ellezelloise.be.\n",
      "\n",
      "Archived from the original on 2 June 2010. Retrieved 27 June 2010. \"Watch TVF's Permanent Roommates S02E04 – The Dinner on TVF Play\". TVFPlay. Archived ... January 2005). After the Funeral: Hercule Poirot Investigates. HarperCollins. ISBN 978-0-06-173991-0. Christie, Agatha (3 October 2006a) [1947]. The Labours of Hercules: Hercule Poirot Investigates. HarperCollins. ISBN 978-0-06-174638-3.\n",
      "\n",
      "Christie, Agatha (3 October 2006b). Three Act Tragedy. HarperCollins. ISBN 978-0-06-175403-6. Christie, Agatha (17 March 2009) [1926]. The Murder of Roger Ackroyd. HarperCollins. ISBN 978-0-06-176340-3. Christie, Agatha ... (9 July 2013a). The Lost Mine: A Hercule Poirot Story. HarperCollins. ISBN 978-0-06-229818-8. Christie, Agatha (23 July 2013b). Double Sin: A Hercule Poirot Story. HarperCollins. ISBN 978-0-06-229845-4.\n",
      "\n",
      "Barnard, Robert (1980), A Talent to Deceive, London: Fontana/Collins Goddard, John (2018), Agatha Christie’s Golden Age: An Analysis of Poirot’s Golden Age Puzzles, Stylish Eye ... Listen to Orson Welles in \"The Murder of Roger Ackroyd\" Listen to the 1945 Hercule Poirot radio program Wiktionary definition of Edgar Allan Poe's \"ratiocination\"\n"
     ]
    }
   ],
   "source": [
    "chunks=splitter.chunks(batch[0].decode('utf-8'))\n",
    "print(f'Chunks are: {type(chunks)}')\n",
    "print(f'Have {len(chunks)} chunks')\n",
    "\n",
    "for chunk in chunks:\n",
    "    chunk_start=' '.join(chunk.split(' ')[:25])\n",
    "    chunk_end=' '.join(chunk.split(' ')[-25:])\n",
    "    print(f'\\n{chunk_start} ... {chunk_end}')"
   ]
  },
  {
   "cell_type": "markdown",
   "metadata": {},
   "source": [
    "OK, pretty good. We didn't break up any sentences. Some chunks start with a pronoun, so they would be a little unclear to read in isolation. But this approach is obviously much better than taking chunks by word count. Might want to think about a clever way to filter out chunks that only contain references.\n",
    "\n",
    "It feels snappy too - let's time chunking a few batches and see what we are working with.\n",
    "\n",
    "## 4. Semantic text chunking rate"
   ]
  },
  {
   "cell_type": "code",
   "execution_count": 10,
   "metadata": {},
   "outputs": [
    {
     "name": "stdout",
     "output_type": "stream",
     "text": [
      "Mean chunking time 169.15254759788513 seconds per record\n",
      "CPU times: user 2min 49s, sys: 7.87 ms, total: 2min 49s\n",
      "Wall time: 2min 49s\n"
     ]
    }
   ],
   "source": [
    "%%time\n",
    "\n",
    "# Number of batches to time chunking for\n",
    "num_batches=1\n",
    "\n",
    "# Holder to collect chunking times\n",
    "chunking_times=[]\n",
    "\n",
    "for i in range(num_batches):\n",
    "\n",
    "    # Start the timer\n",
    "    start_time=time.time()\n",
    "\n",
    "    # Get the text batch\n",
    "    batch=input_data[f'batches/{i}']\n",
    "\n",
    "    # Chunk the records from the batch\n",
    "    for record in batch:\n",
    "        chunks=splitter.chunks(record.decode('utf-8'))\n",
    "\n",
    "    # Stop the timer\n",
    "    dT=time.time() - start_time\n",
    "    chunking_times.append(dT)\n",
    "\n",
    "mean_chunking_time=sum(chunking_times)/len(chunking_times)\n",
    "print(f'Mean chunking time {mean_chunking_time::.1f} seconds per record\\n')"
   ]
  },
  {
   "cell_type": "markdown",
   "metadata": {},
   "source": [
    "Ok here's the estimate: we have 688 batches so about 32 hours to chunk the whole thing.\n",
    "\n",
    "If we parallelize it across our CPU cores, we should be able to get it down to under two hours."
   ]
  }
 ],
 "metadata": {
  "kernelspec": {
   "display_name": ".venv",
   "language": "python",
   "name": "python3"
  },
  "language_info": {
   "codemirror_mode": {
    "name": "ipython",
    "version": 3
   },
   "file_extension": ".py",
   "mimetype": "text/x-python",
   "name": "python",
   "nbconvert_exporter": "python",
   "pygments_lexer": "ipython3",
   "version": "3.8.10"
  }
 },
 "nbformat": 4,
 "nbformat_minor": 2
}
