{
 "cells": [
  {
   "cell_type": "markdown",
   "metadata": {},
   "source": [
    "# OpenSearch indexing\n",
    "\n",
    "ETL pipeline is done - but indexing appears painfully slow. From some quick observations with htop and bmon, the bottleneck seems to be OpenSearch calculating the embeddings. But, that's an assumption we can test. Let's make some performance measurements and see what we are working with.\n",
    "\n",
    "## 1. Run set-up"
   ]
  },
  {
   "cell_type": "markdown",
   "metadata": {},
   "source": [
    "### 1.1. Imports"
   ]
  },
  {
   "cell_type": "code",
   "execution_count": 1,
   "metadata": {},
   "outputs": [
    {
     "name": "stdout",
     "output_type": "stream",
     "text": [
      "Working directory: /mnt/arkk/opensearch/semantic_search\n"
     ]
    }
   ],
   "source": [
    "# Change working directory to parent so we can import as we would from __main__.py\n",
    "print(f'Working directory: ', end = '')\n",
    "%cd ..\n",
    "\n",
    "# Standard imports\n",
    "import time\n",
    "\n",
    "# PyPI imports\n",
    "import h5py\n",
    "import numpy as np\n",
    "import matplotlib.pyplot as plt\n",
    "\n",
    "# Internal imports\n",
    "import configuration as config\n",
    "import functions.notebook_helper as helper_funcs"
   ]
  },
  {
   "cell_type": "markdown",
   "metadata": {},
   "source": [
    "### 1.2. Run parameters"
   ]
  },
  {
   "cell_type": "code",
   "execution_count": 2,
   "metadata": {},
   "outputs": [],
   "source": [
    "# Name for the text index to insert to\n",
    "knn_index_name='wikipedia-knn'\n",
    "text_index_name='wikipedia-text-only'\n",
    "\n",
    "# Total record count determined in data exploration notebook\n",
    "record_count=13778448\n",
    "\n",
    "# Estimated total chunks after semantic splitting, determined in\n",
    "# semantic splitting notebook\n",
    "estimated_total_chunks=20648877\n",
    "\n",
    "# Transformed wikipedia input data\n",
    "input_file_path=f\"{config.DATA_PATH}/wikipedia-sample/{config.TRANSFORMED_TEXT}\"\n",
    "\n",
    "# Initialize the OpenSearch client\n",
    "client=helper_funcs.start_client()"
   ]
  },
  {
   "cell_type": "markdown",
   "metadata": {},
   "source": [
    "### 1.3. OpenSearch initialization\n",
    "\n",
    "Let's make two indexes for comparison: one KNN index with an embedding ingest pipeline and one vanilla text index."
   ]
  },
  {
   "cell_type": "code",
   "execution_count": 3,
   "metadata": {},
   "outputs": [],
   "source": [
    "# Create the KNN index\n",
    "knn_index_body={\n",
    "    \"settings\": {\n",
    "        \"number_of_shards\": 3,\n",
    "        \"index.knn\": \"true\",\n",
    "        \"default_pipeline\": f'{config.INGEST_PIPELINE_ID}'\n",
    "    },\n",
    "    \"mappings\": {\n",
    "        \"properties\": {\n",
    "            \"text_embedding\": {\n",
    "                \"type\": \"knn_vector\",\n",
    "                \"dimension\": 768,\n",
    "                \"method\": {\n",
    "                \"engine\": \"lucene\",\n",
    "                \"space_type\": \"l2\",\n",
    "                \"name\": \"hnsw\",\n",
    "                \"parameters\": {}\n",
    "                }\n",
    "            },\n",
    "            \"text\": {\n",
    "                \"type\": \"text\"\n",
    "            }\n",
    "        }\n",
    "    }\n",
    "}\n",
    "\n",
    "helper_funcs.initialize_index(knn_index_name, knn_index_body)\n",
    "\n",
    "# Create the text index\n",
    "text_index_body={\n",
    "    'settings': {\n",
    "        'index': {\n",
    "            'number_of_shards': 3\n",
    "        }\n",
    "    },\n",
    "    \"mappings\": {\n",
    "        \"properties\": {\n",
    "            \"text\": {\n",
    "                \"type\": \"text\"\n",
    "            }\n",
    "        }\n",
    "    }\n",
    "}\n",
    "\n",
    "helper_funcs.initialize_index(text_index_name, text_index_body)\n",
    "\n",
    "# Initialize the OpenSearch client\n",
    "client=helper_funcs.start_client()"
   ]
  },
  {
   "cell_type": "markdown",
   "metadata": {},
   "source": [
    "## 2. Insert rate: text only vs embeddings"
   ]
  },
  {
   "cell_type": "code",
   "execution_count": 4,
   "metadata": {},
   "outputs": [],
   "source": [
    "# Number of batches to use for insert rate estimation\n",
    "sample_batches=6\n",
    "\n",
    "# Number of records to sample from each batch\n",
    "sample_size=20\n",
    "\n",
    "# Counter for total records inserted\n",
    "record_num=0\n",
    "\n",
    "# Collector for insert rates\n",
    "knn_insert_rates=[]\n",
    "text_insert_rates=[]\n",
    "\n",
    "# Open a connection to transformed Wikipedia data\n",
    "input_data=h5py.File(input_file_path, 'r')"
   ]
  },
  {
   "cell_type": "markdown",
   "metadata": {},
   "source": [
    "Collect insert performance data for text only and embedding indexes at the same time by inserting to both in the same loop."
   ]
  },
  {
   "cell_type": "code",
   "execution_count": 5,
   "metadata": {},
   "outputs": [],
   "source": [
    "# Loop on the batches\n",
    "for i in range(sample_batches):\n",
    "\n",
    "    # Load the batch\n",
    "    batch=input_data[f'batches/{i + 1}']\n",
    "\n",
    "    # Loop on the records in the batch\n",
    "    for j in range(sample_size):\n",
    "\n",
    "        record_num+=1\n",
    "\n",
    "        # Grab the article\n",
    "        record=batch[j]\n",
    "\n",
    "        # Decode the text\n",
    "        text=record.decode('utf-8')\n",
    "\n",
    "        # Build the requests\n",
    "        knn_request=[]\n",
    "        text_request=[]\n",
    "\n",
    "        knn_request_header={\n",
    "            'update': {\n",
    "                '_index': knn_index_name,\n",
    "                '_id': record_num\n",
    "            }\n",
    "        }\n",
    "\n",
    "        text_request_header={\n",
    "            'update': {\n",
    "                '_index': text_index_name,\n",
    "                '_id': record_num\n",
    "            }\n",
    "        }\n",
    "\n",
    "        knn_request.append(knn_request_header)\n",
    "        text_request.append(text_request_header)\n",
    "\n",
    "        request_body={\n",
    "            'doc': {\n",
    "                'text': text\n",
    "            },\n",
    "            'doc_as_upsert': 'true'\n",
    "        }\n",
    "\n",
    "        knn_request.append(request_body)\n",
    "        text_request.append(request_body)\n",
    "\n",
    "        # Insert the record using the bulk interface. We are\n",
    "        # indexing records one at a time here, but use bulk \n",
    "        # for consistency\n",
    "\n",
    "        # Start the timer\n",
    "        start_time=time.time()\n",
    "\n",
    "        _=client.bulk(knn_request)\n",
    "\n",
    "        # Stop the timer and collect the time\n",
    "        dT=time.time() - start_time\n",
    "        knn_insert_rates.append(dT)\n",
    "\n",
    "        # Start the timer\n",
    "        start_time=time.time()\n",
    "\n",
    "        _=client.bulk(text_request)\n",
    "\n",
    "        # Stop the timer and collect the time\n",
    "        dT=time.time() - start_time\n",
    "        text_insert_rates.append(1 / dT)\n"
   ]
  },
  {
   "cell_type": "code",
   "execution_count": 6,
   "metadata": {},
   "outputs": [
    {
     "data": {
      "image/png": "[encoded data removed]",
      "text/plain": [
       "<Figure size 640x480 with 1 Axes>"
      ]
     },
     "metadata": {},
     "output_type": "display_data"
    },
    {
     "name": "stdout",
     "output_type": "stream",
     "text": [
      "Estimated total text only insert time: 44.5 hours\n",
      "Mean text only insert rate: 129 records per second\n",
      "\n",
      "Estimated total KNN insert time: 209.0 days\n",
      "Mean KNN insert rate: 1.143 records per second\n",
      "\n"
     ]
    }
   ],
   "source": [
    "plt.title('Insert rate by index type')\n",
    "\n",
    "plt.hist(\n",
    "    knn_insert_rates,\n",
    "    facecolor='green',\n",
    "    label='KNN index',\n",
    "    alpha=0.5,\n",
    "    bins=25\n",
    ")\n",
    "\n",
    "plt.hist(\n",
    "    text_insert_rates,\n",
    "    facecolor='blue',\n",
    "    label='Text only index',\n",
    "    alpha=0.5,\n",
    "    bins=25\n",
    ")\n",
    "\n",
    "plt.legend(loc = 'upper left')\n",
    "plt.xlabel(f'Record insert rates (records per second)')\n",
    "plt.ylabel('Count')\n",
    "plt.show()\n",
    "\n",
    "mean_text_insert_rate=sum(text_insert_rates)/len(text_insert_rates)\n",
    "estimated_total_text_only_insert_time=estimated_total_chunks / mean_text_insert_rate\n",
    "print(f'Estimated total text only insert time: {estimated_total_text_only_insert_time / (60*60):.1f} hours')\n",
    "print(f'Mean text only insert rate: {mean_text_insert_rate:.0f} records per second\\n')\n",
    "\n",
    "mean_knn_insert_rate=sum(knn_insert_rates)/len(knn_insert_rates)\n",
    "estimated_total_knn_only_insert_time=estimated_total_chunks / mean_knn_insert_rate\n",
    "print(f'Estimated total KNN insert time: {estimated_total_knn_only_insert_time / (60*60*24):.0f} days')\n",
    "print(f'Mean KNN insert rate: {mean_knn_insert_rate:.3f} records per second\\n')"
   ]
  },
  {
   "cell_type": "markdown",
   "metadata": {},
   "source": [
    "Yikes, that's not going to work. Looking at the difference in insert rates, it is clear that we were right about the bottleneck: it's definitely the embedding calculation/KNN. So, a few ideas here.\n",
    "\n",
    "1. Though the GPUs are available inside the OpenSearch node Docker containers, OpenSearch is not using them... we should troubleshoot that.\n",
    "2. We can insert batches with the bulk interface - if that means OpenSearch is calculating the embeddings in parallel, using a larger batch size might speed things up.\n",
    "3. We could use multiple insert workers - just looking at htop, we are using less than 50% of available CPU resources while inserting, so we should be able to go faster.\n",
    "4. Last would be reading up on OpenSearch cluster management in general to see if there are settings we should be tuning for this type of thing.\n",
    "\n",
    "Think that getting the GPUs online is going to be the only real solution here. Given the amount of CPU we are already using while making/inserting embeddings we probably can't speed up much more than two-fold through parallelism alone.\n",
    "\n",
    "Let's at least try bigger bulk batches first.\n",
    "\n",
    "## 3. Insert rate: bulk insert batch size"
   ]
  },
  {
   "cell_type": "code",
   "execution_count": 15,
   "metadata": {},
   "outputs": [
    {
     "name": "stdout",
     "output_type": "stream",
     "text": [
      "Have 51766 input records\n"
     ]
    }
   ],
   "source": [
    "# Bulk insert batch sizes to test\n",
    "batch_sizes=[1,2,4,8,16,32,64,128,256]\n",
    "\n",
    "# Replicates for each batch size\n",
    "replicates=3\n",
    "\n",
    "# Holder for results\n",
    "results={}\n",
    "\n",
    "# Ingest all of the sample text so we don't have to deal with\n",
    "# nested loops over the input batches\n",
    "texts=[]\n",
    "\n",
    "# Loop on the input batches\n",
    "for i in input_data['batches']:\n",
    "\n",
    "    # Load the batch\n",
    "    batch=input_data[f'batches/{i}']\n",
    "\n",
    "    # Loop on the records in the batch\n",
    "    for record in batch:\n",
    "\n",
    "        # Decode the text\n",
    "        text=record.decode('utf-8')\n",
    "\n",
    "        # Collect the text\n",
    "        texts.append(text)\n",
    "\n",
    "print(f'Have {len(texts)} input records')"
   ]
  },
  {
   "cell_type": "markdown",
   "metadata": {},
   "source": [
    "Only need to test the KNN index rates here - that's what we are really after."
   ]
  },
  {
   "cell_type": "code",
   "execution_count": 16,
   "metadata": {},
   "outputs": [
    {
     "name": "stdout",
     "output_type": "stream",
     "text": [
      "\n",
      "Running replicates for batch size 1\n",
      " Replicate 0\n",
      " Replicate 1\n",
      " Replicate 2\n",
      "\n",
      "Running replicates for batch size 2\n",
      " Replicate 0\n",
      " Replicate 1\n",
      " Replicate 2\n",
      "\n",
      "Running replicates for batch size 4\n",
      " Replicate 0\n",
      " Replicate 1\n",
      " Replicate 2\n",
      "\n",
      "Running replicates for batch size 8\n",
      " Replicate 0\n",
      " Replicate 1\n",
      " Replicate 2\n",
      "\n",
      "Running replicates for batch size 16\n",
      " Replicate 0\n",
      " Replicate 1\n",
      " Replicate 2\n",
      "\n",
      "Running replicates for batch size 32\n",
      " Replicate 0\n",
      " Replicate 1\n",
      " Replicate 2\n",
      "\n",
      "Running replicates for batch size 64\n",
      " Replicate 0\n",
      " Replicate 1\n",
      " Replicate 2\n",
      "\n",
      "Running replicates for batch size 128\n",
      " Replicate 0\n",
      " Replicate 1\n",
      " Replicate 2\n",
      "\n",
      "Running replicates for batch size 256\n",
      " Replicate 0\n",
      " Replicate 1\n",
      " Replicate 2\n"
     ]
    }
   ],
   "source": [
    "for batch_size in batch_sizes:\n",
    "    print(f'\\nRunning replicates for batch size {batch_size}')\n",
    "\n",
    "    # Add the batch size to the results\n",
    "    results[f'{batch_size}']=[]\n",
    "\n",
    "    # Start an empty collector for the insert batch\n",
    "    bulk_insert_batch=[]\n",
    "\n",
    "    for replicate in range(replicates):\n",
    "        print(f' Replicate {replicate}')\n",
    "\n",
    "        # Loop on the input texts\n",
    "        for text in texts:\n",
    "\n",
    "            # Add it to the insert batch\n",
    "            bulk_insert_batch.append(text)\n",
    "\n",
    "            # Once we have enough records in the bulk insert batch, insert it\n",
    "            if len(bulk_insert_batch) == batch_size:\n",
    "\n",
    "                # Build the requests\n",
    "                knn_requests=[]\n",
    "\n",
    "                for text in bulk_insert_batch:\n",
    "\n",
    "                    knn_request_header={\n",
    "                        'update': {\n",
    "                            '_index': knn_index_name,\n",
    "                            '_id': record_num\n",
    "                        }\n",
    "                    }\n",
    "\n",
    "                    knn_requests.append(knn_request_header)\n",
    "\n",
    "                    request_body={\n",
    "                        'doc': {\n",
    "                            'text': text\n",
    "                        },\n",
    "                        'doc_as_upsert': 'true'\n",
    "                    }\n",
    "\n",
    "                    knn_requests.append(request_body)\n",
    "\n",
    "                # Insert the record using the bulk interface. We are\n",
    "                # indexing records one at a time here, but use bulk \n",
    "                # for consistency\n",
    "\n",
    "                # Start the timer\n",
    "                start_time=time.time()\n",
    "\n",
    "                _=client.bulk(knn_requests)\n",
    "\n",
    "                # Stop the timer and collect the insert rate\n",
    "                dT=time.time() - start_time\n",
    "                results[f'{batch_size}'].append(batch_size / dT)\n",
    "\n",
    "                # Reset the bulk insert batch for the next round\n",
    "                bulk_insert_batch=[]\n",
    "\n",
    "                # Break out of the line loop\n",
    "                break\n",
    "\n",
    "            # If we have completed the desired number of replicates break out of the\n",
    "            # inner loop to start the next batch size\n",
    "            if len(results[f'{batch_size}']) == replicates:\n",
    "                break"
   ]
  },
  {
   "cell_type": "code",
   "execution_count": 17,
   "metadata": {},
   "outputs": [
    {
     "data": {
      "image/png": "[encoded data removed]",
      "text/plain": [
       "<Figure size 640x480 with 1 Axes>"
      ]
     },
     "metadata": {},
     "output_type": "display_data"
    }
   ],
   "source": [
    "plt.title('Insert rate: bulk insert batch size')\n",
    "plt.xlabel('Bulk insert batch size (records)')\n",
    "plt.ylabel('Insert rate (records per second)')\n",
    "\n",
    "standard_deviations=[]\n",
    "means=[]\n",
    "\n",
    "for batch_size in batch_sizes:\n",
    "    times=results[f'{batch_size}']\n",
    "    means.append(np.mean(times))\n",
    "    standard_deviations.append(np.std(times))\n",
    "\n",
    "plt.errorbar(\n",
    "    batch_sizes, \n",
    "    means, \n",
    "    yerr=standard_deviations, \n",
    "    linestyle='dotted',\n",
    "    marker='o', \n",
    "    capsize=5\n",
    ")\n",
    "\n",
    "plt.yscale('log')\n",
    "plt.xscale('log')\n",
    "\n",
    "plt.show()\n"
   ]
  },
  {
   "cell_type": "markdown",
   "metadata": {},
   "source": [
    "OK, cool, looking at the graph, we can get a speed-up of on the order or 10x by increasing the bulk insert batch size. The gains start to saturate around a batch size of 64, let's calculate the estimated total insert time:"
   ]
  },
  {
   "cell_type": "code",
   "execution_count": 22,
   "metadata": {},
   "outputs": [
    {
     "name": "stdout",
     "output_type": "stream",
     "text": [
      "Estimated total insert time: 22.7 days\n",
      "Mean insert rate: 11 records per second\n"
     ]
    }
   ],
   "source": [
    "mean_insert_rate=sum(results['64']) / len(results['64'])\n",
    "print(f'Estimated total insert time: {(estimated_total_chunks / mean_insert_rate) / (60*60*24):.1f} days')\n",
    "print(f'Mean insert rate: {mean_insert_rate:.0f} records per second')"
   ]
  },
  {
   "cell_type": "markdown",
   "metadata": {},
   "source": [
    "Whelp, it is the ~10x speed up over single inserts to the KNN index that we were expecting from the graph - but it is still going to take three weeks to index the embeddings for all of Wikipedia. No more benefit to be had from parallelism here - CPU is pinned at 100% utilization on all cores. In fact, I'd like to cut it back so we can use the machine for other things during the run. Either way, we need another solution.\n",
    "\n",
    "Two options I can think of:\n",
    "\n",
    "1. Get the GPUs working with OpenSearch in Docker.\n",
    "2. Pre-calculate the embeddings ourselves using the GPUs and then index them to OpenSearch."
   ]
  }
 ],
 "metadata": {
  "kernelspec": {
   "display_name": ".venv",
   "language": "python",
   "name": "python3"
  },
  "language_info": {
   "codemirror_mode": {
    "name": "ipython",
    "version": 3
   },
   "file_extension": ".py",
   "mimetype": "text/x-python",
   "name": "python",
   "nbconvert_exporter": "python",
   "pygments_lexer": "ipython3",
   "version": "3.10.15"
  }
 },
 "nbformat": 4,
 "nbformat_minor": 2
}
