{
 "cells": [
  {
   "cell_type": "markdown",
   "metadata": {},
   "source": [
    "# Data exploration\n",
    "\n",
    "Let's take a look at the data we got from the Wikipedia CirrusSearch dump. The gzip 'content' file is 34 GB on disk, so I don't think that we want to try decompressing and reading the whole thing into memory unless we have to. Let's see if we can stream the data from the gzip archive and take a look at what we have.\n",
    "\n",
    "**TLDR**\n",
    "1. CirrusSearch 'content' dump has text and title keys\n",
    "2. Reading from decompressed JSON is twice and fast as reading from the gzip archive\n",
    "\n",
    "## 1. Setup"
   ]
  },
  {
   "cell_type": "code",
   "execution_count": 1,
   "metadata": {},
   "outputs": [
    {
     "name": "stdout",
     "output_type": "stream",
     "text": [
      "Working directory: /mnt/arkk/opensearch/semantic_search\n"
     ]
    }
   ],
   "source": [
    "# Change working directory to parent so we can import as we would from __main__.py\n",
    "print(f'Working directory: ', end = '')\n",
    "%cd ..\n",
    "\n",
    "# Standard imports\n",
    "import json\n",
    "import time\n",
    "from gzip import GzipFile\n",
    "\n",
    "# PyPI imports\n",
    "import mwparserfromhell\n",
    "import matplotlib.pyplot as plt # type: ignore\n",
    "\n",
    "# Internal imports\n",
    "import functions.helper as helper_funcs"
   ]
  },
  {
   "cell_type": "code",
   "execution_count": 2,
   "metadata": {},
   "outputs": [],
   "source": [
    "sample_records=5\n",
    "gzip_data_file_path='./data/raw_data/enwiki-20240930-cirrussearch-content.json.gz'\n",
    "json_data_file_path='./data/raw_data/enwiki-20240930-cirrussearch-content.json'\n",
    "\n",
    "run_rate_experiments=True\n",
    "run_parse_experiments=True\n"
   ]
  },
  {
   "cell_type": "markdown",
   "metadata": {},
   "source": [
    "## 2. Load data sample"
   ]
  },
  {
   "cell_type": "code",
   "execution_count": 3,
   "metadata": {},
   "outputs": [
    {
     "name": "stdout",
     "output_type": "stream",
     "text": [
      "Loaded 5 records from gzip archive.\n",
      "Record is: <class 'dict'>\n",
      "\n",
      "Record 0 contains:\n",
      " index: {'_type': '_doc', '_id': '1000'}\n"
     ]
    }
   ],
   "source": [
    "# Load a few records for inspection\n",
    "file_stream=GzipFile(gzip_data_file_path)\n",
    "records = []\n",
    "\n",
    "for i in range(sample_records):\n",
    "\n",
    "    line=next(file_stream)\n",
    "    record=json.loads(line)\n",
    "    records.append(record)\n",
    "\n",
    "print(f'Loaded {len(records)} records from gzip archive.')\n",
    "print(f'Record is: {type(records[0])}')\n",
    "\n",
    "print(f'\\nRecord 0 contains:')\n",
    "\n",
    "for key, value in records[0].items():\n",
    "    print(f' {key}: {value}')\n"
   ]
  },
  {
   "cell_type": "markdown",
   "metadata": {},
   "source": [
    "OK, looks like the first line in the file is just some metadata. Let's look at the second record."
   ]
  },
  {
   "cell_type": "code",
   "execution_count": 4,
   "metadata": {},
   "outputs": [
    {
     "name": "stdout",
     "output_type": "stream",
     "text": [
      "\n",
      "Record 1 keys:\n",
      " version\n",
      " wiki\n",
      " page_id\n",
      " namespace\n",
      " namespace_text\n",
      " title\n",
      " timestamp\n",
      " create_timestamp\n",
      " redirect\n",
      " category\n",
      " external_link\n",
      " outgoing_link\n",
      " template\n",
      " text\n",
      " source_text\n",
      " text_bytes\n",
      " content_model\n",
      " coordinates\n",
      " language\n",
      " heading\n",
      " opening_text\n",
      " auxiliary_text\n",
      " defaultsort\n",
      " file_text\n",
      " display_title\n",
      " wikibase_item\n",
      " popularity_score\n",
      " weighted_tags\n"
     ]
    }
   ],
   "source": [
    "print(f'\\nRecord 1 keys:')\n",
    "\n",
    "for key in records[1].keys():\n",
    "    print(f' {key}')"
   ]
  },
  {
   "cell_type": "markdown",
   "metadata": {},
   "source": [
    "More like what we were expecting. We have keys for title, text, timestamp, language, even popularity score? Didn't know Wikipedia had that. Here is the title and some text from the first record:"
   ]
  },
  {
   "cell_type": "code",
   "execution_count": 5,
   "metadata": {},
   "outputs": [
    {
     "name": "stdout",
     "output_type": "stream",
     "text": [
      "Title: Hercule Poirot\n",
      "Text:\n",
      "Hercule Poirot (UK: /ˈɛərkjuːl ˈpwɑːroʊ/, US: /hɜːrˈkjuːl pwɑːˈroʊ/) is a fictional Belgian detective created by British writer Agatha Christie. Poirot is one of Christie's most famous and long-running characters, appearing in 33 novels, two plays (Black Coffee and Alibi), and 51 short stories published between 1920 and 1975. Poirot has been portrayed on radio, in film and on television by various actors, including Austin Trevor, John Moffatt, Albert Finney, Peter Ustinov, Ian Holm, Tony Randall, Alfred Molina, Orson Welles, David Suchet, Kenneth Branagh, and John Malkovich. Poirot's name was derived from two other fictional detectives of the time: Marie Belloc\n",
      "...\n",
      "Christie, London: Collins Vermandere, Martine (2016). \"Case closed? De speurtocht naar de inspiratie voor Agatha Christie's Hercule Poirot\" [Case closed? The search for the inspiration for Agatha Christie's Hercule Poirot]. Brood & Rozen (in Dutch). 21 (1). doi:10.21825/br.v21i1.9945. hdl:1854/LU-8041744. Wikimedia Commons has media related to Hercule Poirot. Official Agatha Christie website A collection of public domain Poirot works as eBooks at Standard Ebooks Hercule Poirot on IMDb The Mysterious Affair at Styles at Project Gutenberg Listen to Orson Welles in \"The Murder of Roger Ackroyd\" Listen to the 1945 Hercule Poirot radio program Wiktionary definition of Edgar Allan Poe's \"ratiocination\"\n"
     ]
    }
   ],
   "source": [
    "start_text=' '.join(records[1]['text'].split(' ')[:100])\n",
    "end_text=' '.join(records[1]['text'].split(' ')[-100:])\n",
    "\n",
    "print(f\"Title: {records[1]['title']}\")\n",
    "print(f\"Text:\\n{start_text}\\n...\\n{end_text}\")"
   ]
  },
  {
   "cell_type": "markdown",
   "metadata": {},
   "source": [
    "Yep, that's a Wikipedia article. Good, I think we can work with this."
   ]
  },
  {
   "cell_type": "markdown",
   "metadata": {},
   "source": [
    "## 3. Record read rate: gzip vs JSON\n",
    "Since the unzipped files are too big to fit in memory, let's first see if there is any time benefit to streaming the data from the gzip archive vs the decompressed JSON file. We have two ways we can read the data:\n",
    "\n",
    "1. From the gzip archive\n",
    "2. From the decompressed JSON\n",
    "\n",
    "Which one is faster? By how much? There is obviously an advantage to reading straight from the archive. Let's read a bunch of records and time it."
   ]
  },
  {
   "cell_type": "code",
   "execution_count": 6,
   "metadata": {},
   "outputs": [
    {
     "name": "stdout",
     "output_type": "stream",
     "text": [
      "Mean gzip read rate: 6564 records per second\n",
      "Mean JSON read rate: 13813 records per second"
     ]
    }
   ],
   "source": [
    "if run_rate_experiments is True:\n",
    "    # Run replicates of chunks\n",
    "    replicates=100\n",
    "    chunk_size=5000\n",
    "\n",
    "    # And collect the read rate in records per second\n",
    "    # for each chunk\n",
    "    gzip_read_rates=[]\n",
    "    json_read_rates=[]\n",
    "\n",
    "    # Time gzip reads\n",
    "\n",
    "    # Open gzip JSON lines file stream\n",
    "    file=GzipFile(gzip_data_file_path)\n",
    "\n",
    "    # Always skip the first metadata line\n",
    "    _=next(file)\n",
    "\n",
    "    # Loop on replicates\n",
    "    while len(gzip_read_rates) < replicates:\n",
    "\n",
    "        # Time how long it takes to load each chunk of records\n",
    "        start_time=time.time()\n",
    "\n",
    "        for i in range(chunk_size):\n",
    "            line=next(file)\n",
    "            record=json.loads(line)\n",
    "        \n",
    "        dT=time.time() - start_time\n",
    "        gzip_read_rates.append(chunk_size / dT)\n",
    "\n",
    "    # Print the result\n",
    "    mean_gzip_read_rate=sum(gzip_read_rates) / len(gzip_read_rates)\n",
    "    print(f'Mean gzip read rate: {mean_gzip_read_rate:.0f} records per second')\n",
    "\n",
    "    # Time JSON reads\n",
    "\n",
    "    # Open the JSON file\n",
    "    with open(json_data_file_path, 'r') as file:\n",
    "\n",
    "        # Always skip the first metadata line\n",
    "        _=next(file)\n",
    "\n",
    "        # Loop on replicates\n",
    "        while len(json_read_rates) < replicates:\n",
    "\n",
    "            # Time how long it takes to load each chunk of records\n",
    "            start_time=time.time()\n",
    "        \n",
    "            # Iterate over the lines\n",
    "            for i, line in enumerate(file):\n",
    "\n",
    "                record=json.loads(line)\n",
    "\n",
    "                if i == chunk_size:\n",
    "                    dT=time.time() - start_time\n",
    "                    json_read_rates.append(chunk_size / dT)\n",
    "                    break\n",
    "\n",
    "    # Print the result\n",
    "    mean_json_read_rate=sum(json_read_rates) / len(json_read_rates)\n",
    "    print(f'Mean JSON read rate: {mean_json_read_rate:.0f} records per second', end='')"
   ]
  },
  {
   "cell_type": "code",
   "execution_count": 7,
   "metadata": {},
   "outputs": [
    {
     "data": {
      "image/png": "[encoded data removed]",
      "text/plain": [
       "<Figure size 640x480 with 1 Axes>"
      ]
     },
     "metadata": {},
     "output_type": "display_data"
    }
   ],
   "source": [
    "if run_rate_experiments is True:\n",
    "\n",
    "    plt.title('Read rate by file type')\n",
    "\n",
    "    plt.hist(\n",
    "        json_read_rates,\n",
    "        facecolor = 'green',\n",
    "        label = 'JSON',\n",
    "        alpha = 0.5\n",
    "    )\n",
    "\n",
    "    plt.hist(\n",
    "        gzip_read_rates,\n",
    "        facecolor = 'blue',\n",
    "        label = 'gzip',\n",
    "        alpha = 0.5\n",
    "    )\n",
    "\n",
    "    plt.legend(loc = 'upper left')\n",
    "    plt.xlabel(f'Record read rate (records per second)')\n",
    "    plt.ylabel('Count')\n",
    "    plt.show()"
   ]
  },
  {
   "cell_type": "markdown",
   "metadata": {},
   "source": [
    "Reading from the decompressed file is a little less than twice as fast as reading from the gzip archive. No big surprise there. Now let's try reading the whole file - we still don't even know how many records we have!"
   ]
  },
  {
   "cell_type": "markdown",
   "metadata": {},
   "source": [
    "## 4. Dataset size and read time"
   ]
  },
  {
   "cell_type": "markdown",
   "metadata": {},
   "source": [
    "### 4.1. Read lines only"
   ]
  },
  {
   "cell_type": "code",
   "execution_count": 8,
   "metadata": {},
   "outputs": [
    {
     "name": "stdout",
     "output_type": "stream",
     "text": [
      "Read 4860000 lines\r"
     ]
    }
   ],
   "source": [
    "%%time\n",
    "\n",
    "if run_rate_experiments is True:\n",
    "\n",
    "    # Open the JSON file\n",
    "    with open(json_data_file_path, 'r') as file:\n",
    "\n",
    "        # Always skip the first metadata line\n",
    "        _=next(file)\n",
    "        \n",
    "        # Iterate over the lines\n",
    "        for i, line in enumerate(file):\n",
    "\n",
    "            # Print a status update every 1000 lines\n",
    "            if i % 1000 == 0:\n",
    "                print(f'Read {i} lines', end= '\\r')\n",
    "\n",
    "    print(f'Read {i} lines total\\n')"
   ]
  },
  {
   "cell_type": "markdown",
   "metadata": {},
   "source": [
    "Not terrible, we have 13.8 million records, and it took us about two and a half minutes to visit each one. Let's try it again and see how much we slow down if we load each one to JSON and grab the text."
   ]
  },
  {
   "cell_type": "markdown",
   "metadata": {},
   "source": [
    "### 4.2. Load JSON to dictionary"
   ]
  },
  {
   "cell_type": "code",
   "execution_count": null,
   "metadata": {},
   "outputs": [],
   "source": [
    "%%time\n",
    "\n",
    "if run_rate_experiments is True:\n",
    "\n",
    "    # Track the number of times we catch KeyError, or \n",
    "    # the number of times a record does not have a 'text' key\n",
    "    keyerror_count=0\n",
    "\n",
    "    # Open the JSON file\n",
    "    with open(json_data_file_path, 'r') as file:\n",
    "        \n",
    "        # Always skip the first metadata line\n",
    "        _=next(file)\n",
    "        \n",
    "        # Iterate over the lines\n",
    "        for i, line in enumerate(file):\n",
    "\n",
    "            record=json.loads(line)\n",
    "\n",
    "            try:\n",
    "                text=record['text']\n",
    "\n",
    "            except KeyError as e:\n",
    "                keyerror_count+=1\n",
    "\n",
    "            # Print a status update every 1000 lines\n",
    "            if i % 1000 == 0:\n",
    "                print(f'Read {i} lines', end= '\\r')\n",
    "\n",
    "    print(f'Read {i} lines total')\n",
    "    print(f'{keyerror_count} records don\\'t have a text key\\n')"
   ]
  },
  {
   "cell_type": "markdown",
   "metadata": {},
   "source": [
    "Actually reading the JSON into a dictionary increases the total time by a factor of 8, but it still takes less than a half hour to read the whole file. Not terrible if we only need to do this once to parse and batch the text for further processing.\n",
    "\n",
    "But look at the 'text' key-less record count, it's much more than I thought... Wait, it's exactly half. I bet I know what is going on - only every other line is an article because each one comes with that metadata/header line we saw was the first line in the file. OK, I bet we can speed up a good bit by only looking at every other line."
   ]
  },
  {
   "cell_type": "code",
   "execution_count": null,
   "metadata": {},
   "outputs": [],
   "source": [
    "%%time\n",
    "\n",
    "if run_rate_experiments is True:\n",
    "\n",
    "    # Track the number of times we catch KeyError, or \n",
    "    # the number of times a record does not have a 'text' key\n",
    "    keyerror_count=0\n",
    "\n",
    "    # Also count the number of texts we were able to successfully extract\n",
    "    text_count=0\n",
    "\n",
    "    # Open the JSON file\n",
    "    with open(json_data_file_path, 'r') as file:\n",
    "        \n",
    "        # Iterate over the lines\n",
    "        for i, line in enumerate(file):\n",
    "\n",
    "            # Skip even numbered header lines and only\n",
    "            # attempt a load on odd numbered article lines\n",
    "            if i % 2 != 0:\n",
    "\n",
    "                # Load the line to JSON\n",
    "                record=json.loads(line)\n",
    "\n",
    "                # Get the text, catching KeyError if the\n",
    "                # JSON dictionary has no 'text' key\n",
    "                try:\n",
    "                    text=record['text']\n",
    "                    text_count+=1\n",
    "\n",
    "                # Count key errors\n",
    "                except KeyError as e:\n",
    "                    keyerror_count+=1\n",
    "                \n",
    "            # Print a status update every 5000 lines\n",
    "            if i % 5000 == 0:\n",
    "                print(f'Read {i} lines', end= '\\r')\n",
    "\n",
    "    print(f'Read {i} lines total')\n",
    "    print(f'Extracted {text_count} article texts')\n",
    "    print(f'{keyerror_count} records don\\'t have a text key\\n')"
   ]
  },
  {
   "cell_type": "markdown",
   "metadata": {},
   "source": [
    "OK, well, it didn't speed up any, which is a little strange. But, at least we are not catching any KeyErrors when we extract the text. Feels cleaner. OK. Time to move on."
   ]
  },
  {
   "cell_type": "markdown",
   "metadata": {},
   "source": [
    "## 6. Additional filtering\n",
    "### 6.1. Wikipedia namespace\n",
    "\n",
    "After working with the binned text a bit more, I have noticed that we have a fair amount of disambiguation pages and some others that are not strictly 'articles'. Let's see if we can implement a solution to filter these out ahead to time using the 'namespace' tag from the original record.\n",
    "\n",
    "Here is the list of subject namespaces provided by [Wikipedia](https://en.wikipedia.org/wiki/Wikipedia:What_is_an_article%3F#Namespace)\n",
    "```text\n",
    "Subject namespaces\n",
    "0 \t(Main/Article)\n",
    "2 \tUser\n",
    "4 \tWikipedia\n",
    "6 \tFile\n",
    "8 \tMediaWiki\n",
    "10 \tTemplate\n",
    "12 \tHelp\n",
    "14 \tCategory\n",
    "100 \tPortal\n",
    "118 \tDraft\n",
    "126 \tMOS\n",
    "710 \tTimedText\n",
    "828 \tModule\n",
    "```\n",
    "\n",
    "We pretty obviously want the '0' namespace for Main/Article. However, I'm not sure if taking only that tag will filter out disambiguation pages or not. We also have a 'category' tag. Let's see if we can figure out what lives under that:"
   ]
  },
  {
   "cell_type": "code",
   "execution_count": null,
   "metadata": {},
   "outputs": [],
   "source": [
    "%%time\n",
    "\n",
    "if run_parse_experiments is True:\n",
    "\n",
    "    # Counter for namespace 0 records\n",
    "    namespace_zero_count=0\n",
    "\n",
    "    # Counter for disambiguation pages\n",
    "    disambiguation_count=0\n",
    "\n",
    "    # Count redirect pages\n",
    "    redirects=0\n",
    "\n",
    "    # Outlines\n",
    "    outlines=0\n",
    "\n",
    "    # Lists\n",
    "    lists=0\n",
    "\n",
    "    # Indexes\n",
    "    indexes=0\n",
    "\n",
    "    # Holder for category values\n",
    "    categories=[]\n",
    "\n",
    "    # Track the number of times we catch KeyError, or \n",
    "    # the number of times a record does not have a 'text' key\n",
    "    keyerror_count=0\n",
    "\n",
    "    # Also count the number of texts we were able to successfully extract\n",
    "    text_count=0\n",
    "\n",
    "    # Open the JSON file\n",
    "    with open(json_data_file_path, 'r') as file:\n",
    "        \n",
    "        # Iterate over the lines\n",
    "        for i, line in enumerate(file):\n",
    "\n",
    "            # Skip even numbered header lines and only\n",
    "            # attempt a load on odd numbered article lines\n",
    "            if i % 2 != 0:\n",
    "\n",
    "                # Load the line to JSON\n",
    "                record=json.loads(line)\n",
    "\n",
    "                # Get the text, catching KeyError if the\n",
    "                # JSON dictionary has no 'text' key\n",
    "                try:\n",
    "                    categories.append(record['category'])\n",
    "                    text_count+=1\n",
    "                    \n",
    "                    if record['namespace'] == 0:\n",
    "                        namespace_zero_count+=1\n",
    "\n",
    "                    if 'Disambiguation pages' in record['category']:\n",
    "                        disambiguation_count+=1\n",
    "\n",
    "                    if 'Wikipedia redirects' in record['category']:\n",
    "                        redirects+=1\n",
    "\n",
    "                    if 'Outline' in record['category']:\n",
    "                        outlines+=1\n",
    "\n",
    "                    if 'Lists of topics' in record['category']:\n",
    "                        lists+=1\n",
    "\n",
    "                    if 'Wikipedia indexes' in record['categories']:\n",
    "                        indexes+=1\n",
    "\n",
    "                # Count key errors\n",
    "                except KeyError as e:\n",
    "                    keyerror_count+=1\n",
    "                \n",
    "            # Print a status update every 5000 lines\n",
    "            if i % 5000 == 0:\n",
    "                print(f'Read {i} lines', end= '\\r')\n",
    "\n",
    "            # Break after 500000 records\n",
    "            if i == 2000000:\n",
    "                break"
   ]
  },
  {
   "cell_type": "code",
   "execution_count": null,
   "metadata": {},
   "outputs": [],
   "source": [
    "# if run_parse_experiments is True:\n",
    "    \n",
    "#     print(f'Total text records: {text_count}')\n",
    "#     print(f'Namespace 0 text records: {namespace_zero_count}')\n",
    "#     print(f'Disambiguation articles: {disambiguation_count}')\n",
    "#     print(f'Redirect records: {redirects}')\n",
    "#     print(f'Outline records: {outlines}')\n",
    "#     print(f'List articles: {lists}')\n",
    "#     print(f'Index articles: {indexes}')"
   ]
  },
  {
   "cell_type": "markdown",
   "metadata": {},
   "source": [
    "### 6.2. Mwparserfromhell\n",
    "\n",
    "Let's try this another way - there is a package available to work with Wikipedia source code: [mwparserfromhell](https://github.com/earwig/mwparserfromhell)."
   ]
  },
  {
   "cell_type": "code",
   "execution_count": null,
   "metadata": {},
   "outputs": [],
   "source": [
    "if run_parse_experiments is True:\n",
    "\n",
    "    # Convert source string to wikicode\n",
    "    wikicode=mwparserfromhell.parse(records[1]['source_text'])\n",
    "\n",
    "    # Strip garbage out of wikicode source\n",
    "    source_string=wikicode.strip_code(\n",
    "        normalize=True,\n",
    "        collapse=True,\n",
    "        keep_template_params=False\n",
    "    )\n",
    "\n",
    "\n",
    "    # Remove extra sections from the end of the document\n",
    "    source_string=helper_funcs.remove_extra_sections(source_string)\n",
    "\n",
    "    # Do some string replacements\n",
    "    source_string=helper_funcs.fix_bad_symbols(source_string)\n",
    "\n",
    "    # Clean up newlines\n",
    "    source_string=helper_funcs.clean_newlines(source_string)\n",
    "\n",
    "    # Get rid of image thumbnail lines and leading spaces\n",
    "    source_string=helper_funcs.remove_thumbnails(source_string)"
   ]
  },
  {
   "cell_type": "code",
   "execution_count": null,
   "metadata": {},
   "outputs": [],
   "source": [
    "print(wikicode)"
   ]
  },
  {
   "cell_type": "code",
   "execution_count": null,
   "metadata": {},
   "outputs": [],
   "source": [
    "print(source_string)"
   ]
  },
  {
   "cell_type": "markdown",
   "metadata": {},
   "source": [
    "Ok, this looks much better than anything we were going to come up with in the next few days."
   ]
  },
  {
   "cell_type": "markdown",
   "metadata": {},
   "source": [
    "## 7. Conclusion\n",
    "\n",
    "Reading straight from the gzip archive halves the read rate compared to reading uncompressed JSON. However, even with the compressed data we are looking a less than an hour to process the whole file. Remember, we only need to read from the raw data once to extract the text to batches. I think it's worth the disk space savings and one less additional step in preparing the data to just read straight from the gzip archive.\n",
    "\n",
    "For cleaning, definitely use mwparserfromhell plus our custom cleaning functions."
   ]
  }
 ],
 "metadata": {
  "kernelspec": {
   "display_name": ".venv_numpy2",
   "language": "python",
   "name": "python3"
  },
  "language_info": {
   "codemirror_mode": {
    "name": "ipython",
    "version": 3
   },
   "file_extension": ".py",
   "mimetype": "text/x-python",
   "name": "python",
   "nbconvert_exporter": "python",
   "pygments_lexer": "ipython3",
   "version": "3.10.15"
  }
 },
 "nbformat": 4,
 "nbformat_minor": 2
}
