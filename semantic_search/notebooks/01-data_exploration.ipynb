{
 "cells": [
  {
   "cell_type": "markdown",
   "metadata": {},
   "source": [
    "# Data exploration\n",
    "\n",
    "Let's take a look at the data we got from the Wikipedia CirrusSearch dump. The gzip 'content' file is 34 GB on disk, so I don't think that we want to try decompressing and reading the whole thing into memory unless we have to. Let's see if we can stream the data from the gzip archive and take a look at what we have.\n",
    "\n",
    "**TLDR**\n",
    "1. CirrusSearch 'content' dump has text and title keys\n",
    "2. Reading from decompressed JSON is twice and fast as reading from the gzip archive\n",
    "\n",
    "## 1. Setup"
   ]
  },
  {
   "cell_type": "code",
   "execution_count": 1,
   "metadata": {},
   "outputs": [],
   "source": [
    "# Change working directory to parent so we can import as we would from __main__.py\n",
    "print(f'Working directory: ', end = '')\n",
    "%cd ..\n",
    "\n",
    "import json\n",
    "import time\n",
    "import matplotlib.pyplot as plt # type: ignore\n",
    "from gzip import GzipFile"
   ]
  },
  {
   "cell_type": "code",
   "execution_count": 2,
   "metadata": {},
   "outputs": [],
   "source": [
    "sample_records=5\n",
    "gzip_data_file_path='./data/raw_data/enwiki-20240930-cirrussearch-content.json.gz'\n",
    "json_data_file_path='./data/raw_data/enwiki-20240930-cirrussearch-content.json'\n"
   ]
  },
  {
   "cell_type": "markdown",
   "metadata": {},
   "source": [
    "## 2. Load data sample\n",
    "### 2.1. Content CirrusSearch dump"
   ]
  },
  {
   "cell_type": "code",
   "execution_count": 3,
   "metadata": {},
   "outputs": [
    {
     "name": "stdout",
     "output_type": "stream",
     "text": [
      "Loaded 5 records from gzip archive.\n",
      "Record is: <class 'dict'>\n",
      "\n",
      "Record 0 contains:\n",
      " index: {'_type': '_doc', '_id': '1000'}\n"
     ]
    }
   ],
   "source": [
    "# Load a few records for inspection\n",
    "file_stream=GzipFile(gzip_data_file_path)\n",
    "records = []\n",
    "\n",
    "for i in range(sample_records):\n",
    "\n",
    "    line=next(file_stream)\n",
    "    record=json.loads(line)\n",
    "    records.append(record)\n",
    "\n",
    "print(f'Loaded {len(records)} records from gzip archive.')\n",
    "print(f'Record is: {type(records[0])}')\n",
    "\n",
    "print(f'\\nRecord 0 contains:')\n",
    "\n",
    "for key, value in records[0].items():\n",
    "    print(f' {key}: {value}')\n"
   ]
  },
  {
   "cell_type": "markdown",
   "metadata": {},
   "source": [
    "OK, looks like the first line in the file is just some metadata. Let's look at the second record."
   ]
  },
  {
   "cell_type": "code",
   "execution_count": 4,
   "metadata": {},
   "outputs": [
    {
     "name": "stdout",
     "output_type": "stream",
     "text": [
      "\n",
      "Record 1 keys:\n",
      " version\n",
      " wiki\n",
      " page_id\n",
      " namespace\n",
      " namespace_text\n",
      " title\n",
      " timestamp\n",
      " create_timestamp\n",
      " redirect\n",
      " category\n",
      " external_link\n",
      " outgoing_link\n",
      " template\n",
      " text\n",
      " source_text\n",
      " text_bytes\n",
      " content_model\n",
      " coordinates\n",
      " language\n",
      " heading\n",
      " opening_text\n",
      " auxiliary_text\n",
      " defaultsort\n",
      " file_text\n",
      " display_title\n",
      " wikibase_item\n",
      " popularity_score\n",
      " weighted_tags\n"
     ]
    }
   ],
   "source": [
    "print(f'\\nRecord 1 keys:')\n",
    "\n",
    "for key in records[1].keys():\n",
    "    print(f' {key}')"
   ]
  },
  {
   "cell_type": "markdown",
   "metadata": {},
   "source": [
    "More like what we were expecting. We have keys for title, text, timestamp, language, even popularity score? Didn't know Wikipedia had that. Here is the title and some text from the first record:"
   ]
  },
  {
   "cell_type": "code",
   "execution_count": 5,
   "metadata": {},
   "outputs": [
    {
     "name": "stdout",
     "output_type": "stream",
     "text": [
      "Title: Hercule Poirot\n",
      "Text\n",
      "Hercule Poirot (UK: /ˈɛərkjuːl ˈpwɑːroʊ/, US: /hɜːrˈkjuːl pwɑːˈroʊ/) is a fictional Belgian detective created by British writer Agatha Christie. Poirot is one of Christie's most famous and long-running characters, appearing in 33 novels, two plays (Black Coffee and Alibi), and 51 short stories published between 1920 and 1975. Poirot has been portrayed on radio, in film and on television by various actors, including Austin Trevor, John Moffatt, Albert Finney, Peter Ustinov, Ian Holm, Tony Randall, Alfred Molina, Orson Welles, David Suchet, Kenneth Branagh, and John Malkovich. Poirot's name was derived from two other fictional detectives of the time: Marie Belloc\n"
     ]
    }
   ],
   "source": [
    "text_sample = ' '.join(records[1]['text'].split(' ')[:100])\n",
    "\n",
    "print(f\"Title: {records[1]['title']}\")\n",
    "print(f'Text\\n{text_sample}')"
   ]
  },
  {
   "cell_type": "markdown",
   "metadata": {},
   "source": [
    "Yep, that's a Wikipedia article. Good, I think we can work with this. The text is really what we are after but what was in the 'general' dump?"
   ]
  },
  {
   "cell_type": "markdown",
   "metadata": {},
   "source": [
    "### 2.2. General CirrusSearch dump"
   ]
  },
  {
   "cell_type": "code",
   "execution_count": 6,
   "metadata": {},
   "outputs": [
    {
     "name": "stdout",
     "output_type": "stream",
     "text": [
      "Loaded 5 records from gzip archive.\n",
      "Record is: <class 'dict'>\n",
      "\n",
      "Record 0 contains:\n",
      " index: {'_type': '_doc', '_id': '100000'}\n"
     ]
    }
   ],
   "source": [
    "# Load a few records for inspection\n",
    "file_stream=GzipFile('./data/raw_data/enwiki-20240930-cirrussearch-general.json.gz')\n",
    "records = []\n",
    "\n",
    "for i in range(sample_records):\n",
    "\n",
    "    line=next(file_stream)\n",
    "    record=json.loads(line)\n",
    "    records.append(record)\n",
    "\n",
    "print(f'Loaded {len(records)} records from gzip archive.')\n",
    "print(f'Record is: {type(records[0])}')\n",
    "\n",
    "print(f'\\nRecord 0 contains:')\n",
    "\n",
    "for key, value in records[0].items():\n",
    "    print(f' {key}: {value}')"
   ]
  },
  {
   "cell_type": "markdown",
   "metadata": {},
   "source": [
    "Looks like the same metadata that was in the content dump. Let's take a look at the second record."
   ]
  },
  {
   "cell_type": "code",
   "execution_count": 7,
   "metadata": {},
   "outputs": [
    {
     "name": "stdout",
     "output_type": "stream",
     "text": [
      "\n",
      "Record 1 keys:\n",
      " template\n",
      " content_model\n",
      " wiki\n",
      " auxiliary_text\n",
      " language\n",
      " title\n",
      " ores_articletopics\n",
      " page_id\n",
      " create_timestamp\n",
      " weighted_tags\n",
      " text\n",
      " timestamp\n",
      " redirect\n",
      " heading\n",
      " source_text\n",
      " version_type\n",
      " coordinates\n",
      " version\n",
      " external_link\n",
      " namespace_text\n",
      " namespace\n",
      " text_bytes\n",
      " incoming_links\n",
      " category\n",
      " outgoing_link\n"
     ]
    }
   ],
   "source": [
    "print(f'\\nRecord 1 keys:')\n",
    "\n",
    "for key in records[1].keys():\n",
    "    print(f' {key}')"
   ]
  },
  {
   "cell_type": "markdown",
   "metadata": {},
   "source": [
    "It looks the same, but the file is bigger - maybe this includes other pages besides just 'content' pages? This might need some research."
   ]
  },
  {
   "cell_type": "markdown",
   "metadata": {},
   "source": [
    "## 3. Record read rate: gzip vs JSON\n",
    "Since the unzipped files are too big to fit in memory, let's first see if there is any time benefit to streaming the data from the gzip archive vs the decompressed JSON file. We have two ways we can read the data:\n",
    "\n",
    "1. From the gzip archive\n",
    "2. From the decompressed JSON\n",
    "\n",
    "Which one is faster? By how much? There is obviously an advantage to reading straight from the archive. Let's read a bunch of records and time it."
   ]
  },
  {
   "cell_type": "code",
   "execution_count": 8,
   "metadata": {},
   "outputs": [
    {
     "name": "stdout",
     "output_type": "stream",
     "text": [
      "Mean gzip read rate: 5979 records per second\n",
      "Mean JSON read rate: 10851 records per second"
     ]
    }
   ],
   "source": [
    "# Run replicates of chunks\n",
    "replicates=100\n",
    "chunk_size=5000\n",
    "\n",
    "# And collect the read rate in records per second\n",
    "# for each chunk\n",
    "gzip_read_rates=[]\n",
    "json_read_rates=[]\n",
    "\n",
    "# Time gzip reads\n",
    "\n",
    "# Open gzip JSON lines file stream\n",
    "file=GzipFile(gzip_data_file_path)\n",
    "\n",
    "# Always skip the first metadata line\n",
    "_=next(file)\n",
    "\n",
    "# Loop on replicates\n",
    "while len(gzip_read_rates) < replicates:\n",
    "\n",
    "    # Time how long it takes to load each chunk of records\n",
    "    start_time=time.time()\n",
    "\n",
    "    for i in range(chunk_size):\n",
    "        line=next(file)\n",
    "        record=json.loads(line)\n",
    "    \n",
    "    dT=time.time() - start_time\n",
    "    gzip_read_rates.append(chunk_size / dT)\n",
    "\n",
    "# Print the result\n",
    "mean_gzip_read_rate=sum(gzip_read_rates) / len(gzip_read_rates)\n",
    "print(f'Mean gzip read rate: {mean_gzip_read_rate:.0f} records per second')\n",
    "\n",
    "# Time JSON reads\n",
    "\n",
    "# Open the JSON file\n",
    "with open(json_data_file_path, 'r') as file:\n",
    "\n",
    "    # Always skip the first metadata line\n",
    "    _=next(file)\n",
    "\n",
    "    # Loop on replicates\n",
    "    while len(json_read_rates) < replicates:\n",
    "\n",
    "        # Time how long it takes to load each chunk of records\n",
    "        start_time=time.time()\n",
    "    \n",
    "        # Iterate over the lines\n",
    "        for i, line in enumerate(file):\n",
    "\n",
    "            record=json.loads(line)\n",
    "\n",
    "            if i == chunk_size:\n",
    "                dT=time.time() - start_time\n",
    "                json_read_rates.append(chunk_size / dT)\n",
    "                break\n",
    "\n",
    "# Print the result\n",
    "mean_json_read_rate=sum(json_read_rates) / len(json_read_rates)\n",
    "print(f'Mean JSON read rate: {mean_json_read_rate:.0f} records per second', end='')"
   ]
  },
  {
   "cell_type": "code",
   "execution_count": 9,
   "metadata": {},
   "outputs": [
    {
     "data": {
      "image/png": "[encoded data removed]",
      "text/plain": [
       "<Figure size 640x480 with 1 Axes>"
      ]
     },
     "metadata": {},
     "output_type": "display_data"
    }
   ],
   "source": [
    "plt.title('Read rate by file type')\n",
    "\n",
    "plt.hist(\n",
    "    json_read_rates,\n",
    "    facecolor = 'green',\n",
    "    label = 'JSON',\n",
    "    alpha = 0.5\n",
    ")\n",
    "\n",
    "plt.hist(\n",
    "    gzip_read_rates,\n",
    "    facecolor = 'blue',\n",
    "    label = 'gzip',\n",
    "    alpha = 0.5\n",
    ")\n",
    "\n",
    "plt.legend(loc = 'upper left')\n",
    "plt.xlabel(f'Record read rate (records per second)')\n",
    "plt.ylabel('Count')\n",
    "plt.show()"
   ]
  },
  {
   "cell_type": "markdown",
   "metadata": {},
   "source": [
    "Reading from the decompressed file is a little less than twice as fast as reading from the gzip archive. No big surprise there. Now let's try reading the whole file - we still don't even know how many records we have!"
   ]
  },
  {
   "cell_type": "markdown",
   "metadata": {},
   "source": [
    "## 4. Dataset size and read time"
   ]
  },
  {
   "cell_type": "markdown",
   "metadata": {},
   "source": [
    "### 4.1. Read lines only"
   ]
  },
  {
   "cell_type": "code",
   "execution_count": 10,
   "metadata": {},
   "outputs": [
    {
     "name": "stdout",
     "output_type": "stream",
     "text": [
      "Read 13778448 lines total\n",
      "\n",
      "CPU times: user 1min 35s, sys: 53.7 s, total: 2min 29s\n",
      "Wall time: 2min 34s\n"
     ]
    }
   ],
   "source": [
    "%%time\n",
    "\n",
    "# Open the JSON file\n",
    "with open(json_data_file_path, 'r') as file:\n",
    "\n",
    "    # Always skip the first metadata line\n",
    "    _=next(file)\n",
    "    \n",
    "    # Iterate over the lines\n",
    "    for i, line in enumerate(file):\n",
    "\n",
    "        # Print a status update every 1000 lines\n",
    "        if i % 1000 == 0:\n",
    "            print(f'Read {i} lines', end= '\\r')\n",
    "\n",
    "print(f'Read {i} lines total\\n')"
   ]
  },
  {
   "cell_type": "markdown",
   "metadata": {},
   "source": [
    "Not terrible, we have 13.8 million records, and it took us about two and a half minutes to visit each one. Let's try it again and see how much we slow down if we load each one to JSON and grab the text."
   ]
  },
  {
   "cell_type": "markdown",
   "metadata": {},
   "source": [
    "### 4.2. Load JSON to dictionary"
   ]
  },
  {
   "cell_type": "code",
   "execution_count": 11,
   "metadata": {},
   "outputs": [
    {
     "name": "stdout",
     "output_type": "stream",
     "text": [
      "Read 13778448 lines total\n",
      "6889224 records don't have a text key\n",
      "\n",
      "CPU times: user 19min, sys: 1min 6s, total: 20min 6s\n",
      "Wall time: 20min 7s\n"
     ]
    }
   ],
   "source": [
    "%%time\n",
    "\n",
    "# Track the number of times we catch KeyError, or \n",
    "# the number of times a record does not have a 'text' key\n",
    "keyerror_count=0\n",
    "\n",
    "# Open the JSON file\n",
    "with open(json_data_file_path, 'r') as file:\n",
    "    \n",
    "    # Always skip the first metadata line\n",
    "    _=next(file)\n",
    "    \n",
    "    # Iterate over the lines\n",
    "    for i, line in enumerate(file):\n",
    "\n",
    "        record=json.loads(line)\n",
    "\n",
    "        try:\n",
    "            text=record['text']\n",
    "\n",
    "        except KeyError as e:\n",
    "            keyerror_count+=1\n",
    "\n",
    "        # Print a status update every 1000 lines\n",
    "        if i % 1000 == 0:\n",
    "            print(f'Read {i} lines', end= '\\r')\n",
    "\n",
    "print(f'Read {i} lines total')\n",
    "print(f'{keyerror_count} records don\\'t have a text key\\n')"
   ]
  },
  {
   "cell_type": "markdown",
   "metadata": {},
   "source": [
    "Actually reading the JSON into a dictionary increases the total time by a factor of 8, but it still takes less than a half hour to read the whole file. Not terrible if we only need to do this one to parse the text out and batch it.\n",
    "\n",
    "But look at the 'text' key-less record count, it's much more than I thought... Wait, it's exactly half. I bet I know what is going on - only every other line is an article because each one comes with that metadata/header line we saw was the first line in the file. OK, I bet we can speed up a good bit by only looking at every other line."
   ]
  },
  {
   "cell_type": "code",
   "execution_count": 12,
   "metadata": {},
   "outputs": [
    {
     "name": "stdout",
     "output_type": "stream",
     "text": [
      "Read 13778449 lines total\n",
      "Extracted 6889225 article texts\n",
      "0 records don't have a text key\n",
      "\n",
      "CPU times: user 18min 36s, sys: 1min 15s, total: 19min 52s\n",
      "Wall time: 19min 52s\n"
     ]
    }
   ],
   "source": [
    "%%time\n",
    "\n",
    "# Track the number of times we catch KeyError, or \n",
    "# the number of times a record does not have a 'text' key\n",
    "keyerror_count=0\n",
    "\n",
    "# Also count the number of texts we were able to successfully extract\n",
    "text_count=0\n",
    "\n",
    "# Open the JSON file\n",
    "with open(json_data_file_path, 'r') as file:\n",
    "    \n",
    "    # Iterate over the lines\n",
    "    for i, line in enumerate(file):\n",
    "\n",
    "        # Skip even numbered header lines and only\n",
    "        # attempt a load on odd numbered article lines\n",
    "        if i % 2 != 0:\n",
    "\n",
    "            # Load the line to JSON\n",
    "            record=json.loads(line)\n",
    "\n",
    "            # Get the text, catching KeyError if the\n",
    "            # JSON dictionary has no 'text' key\n",
    "            try:\n",
    "                text=record['text']\n",
    "                text_count+=1\n",
    "\n",
    "            # Count key errors\n",
    "            except KeyError as e:\n",
    "                keyerror_count+=1\n",
    "            \n",
    "        # Print a status update every 5000 lines\n",
    "        if i % 5000 == 0:\n",
    "            print(f'Read {i} lines', end= '\\r')\n",
    "\n",
    "print(f'Read {i} lines total')\n",
    "print(f'Extracted {text_count} article texts')\n",
    "print(f'{keyerror_count} records don\\'t have a text key\\n')"
   ]
  },
  {
   "cell_type": "markdown",
   "metadata": {},
   "source": [
    "OK, well, it didn't speed up any, which is a little strange. But, at least we are not catching any KeyErrors when we extract the text. Feels cleaner. OK. Time to move on."
   ]
  },
  {
   "cell_type": "markdown",
   "metadata": {},
   "source": [
    "## 6. Conclusion\n",
    "\n",
    "Reading straight from the gzip archive halves the read rate compared to reading uncompressed JSON. However, even with the compressed data we are looking a less than an hour to process the whole file. Remember, we only need to read from the raw data once to extract the text to batches."
   ]
  }
 ],
 "metadata": {
  "kernelspec": {
   "display_name": ".venv",
   "language": "python",
   "name": "python3"
  },
  "language_info": {
   "codemirror_mode": {
    "name": "ipython",
    "version": 3
   },
   "file_extension": ".py",
   "mimetype": "text/x-python",
   "name": "python",
   "nbconvert_exporter": "python",
   "pygments_lexer": "ipython3",
   "version": "3.8.10"
  }
 },
 "nbformat": 4,
 "nbformat_minor": 2
}
